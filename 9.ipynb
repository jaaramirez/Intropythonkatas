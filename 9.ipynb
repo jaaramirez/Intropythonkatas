{
 "cells": [
  {
   "cell_type": "markdown",
   "metadata": {},
   "source": [
    "Ejercicio: Uso de funciones en Python\n",
    "\n",
    "Ejercicio 1: Trabajar con argumentos en funciones\n",
    "\n",
    "Los argumentos requeridos en las funciones se utilizan cuando las funciones necesitan que esos argumentos funcionen correctamente. En este ejercicio, construirás un informe de combustible que requiere información de varias ubicaciones de combustible en todo el cohete."
   ]
  },
  {
   "cell_type": "markdown",
   "metadata": {},
   "source": [
    "Comienza por crear una función que necesite tres lecturas de combustible y devuelva un informe:"
   ]
  },
  {
   "cell_type": "code",
   "execution_count": 1,
   "metadata": {},
   "outputs": [],
   "source": [
    "def generar_informe(tanque_interno, tanque_externo, tanque_medio):\n",
    "    promedio_total = (tanque_interno + tanque_externo + tanque_medio)/3\n",
    "    return f\"\"\"Informe de Conbustible:\n",
    "    Promedio total: {promedio_total}%\n",
    "    Tanque interno: {tanque_interno}%\n",
    "    Tanque externo: {tanque_externo}%\n",
    "    Tanque medio: {tanque_medio}% \n",
    "    \"\"\""
   ]
  },
  {
   "cell_type": "markdown",
   "metadata": {},
   "source": [
    "Ahora que hemos definido la función de informes, vamos a comprobarlo. Para esta misión, los tanques no están llenos:"
   ]
  },
  {
   "cell_type": "code",
   "execution_count": 3,
   "metadata": {},
   "outputs": [
    {
     "name": "stdout",
     "output_type": "stream",
     "text": [
      "Informe de Conbustible:\n",
      "    Promedio total: 70.0%\n",
      "    Tanque interno: 55%\n",
      "    Tanque externo: 85%\n",
      "    Tanque medio: 70% \n",
      "    \n"
     ]
    }
   ],
   "source": [
    "print(generar_informe(55,85,70)) "
   ]
  },
  {
   "cell_type": "markdown",
   "metadata": {},
   "source": [
    "En lugar de simplemente crear el informe, la función también está calculando el promedio. Mejora la legibilidad extrayendo el cálculo promedio de la función en una nueva función para que el promedio se pueda hacer de forma independiente:"
   ]
  },
  {
   "cell_type": "code",
   "execution_count": 6,
   "metadata": {},
   "outputs": [
    {
     "data": {
      "text/plain": [
       "70.0"
      ]
     },
     "execution_count": 6,
     "metadata": {},
     "output_type": "execute_result"
    }
   ],
   "source": [
    " \n",
    "def promedio(values):\n",
    "    total = sum(values)\n",
    "    number_of_items = len(values)\n",
    "    return total / number_of_items\n",
    "\n",
    "promedio([55, 85, 70]) "
   ]
  },
  {
   "cell_type": "markdown",
   "metadata": {},
   "source": [
    "Ahora actualiza la función de informes pera llamando a la nueva función del promedio:"
   ]
  },
  {
   "cell_type": "code",
   "execution_count": 8,
   "metadata": {},
   "outputs": [
    {
     "name": "stdout",
     "output_type": "stream",
     "text": [
      "Informe de Conbustible:\n",
      "    Promedio total: 70.0%\n",
      "    Tanque interno: 55%\n",
      "    Tanque externo: 85%\n",
      "    Tanque medio: 70% \n",
      "    \n"
     ]
    }
   ],
   "source": [
    "def generar_informe(tanque_interno, tanque_externo, tanque_medio):\n",
    "    promedio_total = (tanque_interno + tanque_externo + tanque_medio)/3\n",
    "    return f\"\"\"Informe de Conbustible:\n",
    "    Promedio total: {promedio_total}%\n",
    "    Tanque interno: {tanque_interno}%\n",
    "    Tanque externo: {tanque_externo}%\n",
    "    Tanque medio: {tanque_medio}% \n",
    "    \"\"\"\n",
    "\n",
    "print(generar_informe(55, 85, 70))"
   ]
  },
  {
   "cell_type": "markdown",
   "metadata": {},
   "source": [
    "Ejercicio 2: Trabajo con argumentos de palabra clave\n",
    "\n",
    "Ejercicio : Trabajar con argumentos de palabras clave en funciones\n",
    "\n",
    "En este ejercicio, construirás un informe de cohete que requiere varias piezas de información, como el tiempo hasta el destino, el combustible a la izquierda y el nombre del destino. Comienza por crear una función que creará un informe preciso de la misión:"
   ]
  },
  {
   "cell_type": "code",
   "execution_count": 9,
   "metadata": {},
   "outputs": [
    {
     "name": "stdout",
     "output_type": "stream",
     "text": [
      "\n",
      "    La mision tiene como destino Marte\n",
      "    Tiempo total del viaje: 93 minutos\n",
      "    Combustible restante : 360000 galones\n",
      "    \n"
     ]
    }
   ],
   "source": [
    "def informe_cohete(hora_de_prelanzamiento, tiempo_de_vuelo, destino, tanque_externo, tanque_interno):\n",
    "    return f\"\"\"\n",
    "    La mision tiene como destino {destino}\n",
    "    Tiempo total del viaje: {hora_de_prelanzamiento + tiempo_de_vuelo} minutos\n",
    "    Combustible restante : {tanque_externo + tanque_interno} galones\n",
    "    \"\"\"\n",
    "\n",
    "print(informe_cohete(50, 43, \"Marte\", 110000, 250000))"
   ]
  },
  {
   "cell_type": "markdown",
   "metadata": {},
   "source": [
    "La función es problemática porque no se puede adaptar para minutos adicionales o tanques adicionales de combustible. Hazlo más flexible permitiendo cualquier número de pasos basados en el tiempo y cualquier número de tanques. En lugar de usar *args y **kwargs, aprovecha el hecho de que puedes usar cualquier nombre que desees. Asegurate que la función sea más legible mediante el uso de nombres de variables que están asociados con las entradas, como *minutes y **fuel_reservoirs:"
   ]
  },
  {
   "cell_type": "code",
   "execution_count": 12,
   "metadata": {},
   "outputs": [
    {
     "name": "stdout",
     "output_type": "stream",
     "text": [
      "\n",
      "    La mision tiene como destino Marte\n",
      "    Tiempo total del viaje: 142 minutos\n",
      "    Combustible restante: 750000\n",
      "    \n"
     ]
    }
   ],
   "source": [
    "def informe_cohete(destino, *minutos,**combustible_reserva):\n",
    "    return f\"\"\"\n",
    "    La mision tiene como destino {destino}\n",
    "    Tiempo total del viaje: {sum(minutos)} minutos\n",
    "    Combustible restante: {sum(combustible_reserva.values())}\n",
    "    \"\"\"\n",
    "\n",
    "print(informe_cohete(\"Marte\", 35, 25, 82, interno=400000, externo=350000))"
   ]
  },
  {
   "cell_type": "markdown",
   "metadata": {},
   "source": [
    "Debido a que el combustible que queda en los tanques es específico de cada tanque, actualiza la función para usar el nombre de cada tanque en el informe:"
   ]
  },
  {
   "cell_type": "code",
   "execution_count": 29,
   "metadata": {},
   "outputs": [
    {
     "name": "stdout",
     "output_type": "stream",
     "text": [
      "\n",
      "    La misión tiene como destino Marte\n",
      "    Tiempo aproximado de viaje: 142 minutos\n",
      "    Combustible restante: 750000\n",
      "     tanque interno  --> 400000 galones restantes \n",
      " tanque externo  --> 350000 galones restantes \n",
      "\n"
     ]
    }
   ],
   "source": [
    "def informe_cohete(destino, *minutos,**combustible_reserva):\n",
    "    reporte= f\"\"\"\n",
    "    La misión tiene como destino {destino}\n",
    "    Tiempo aproximado de viaje: {sum(minutos)} minutos\n",
    "    Combustible restante: {sum(combustible_reserva.values())}\n",
    "    \"\"\"\n",
    "    for tanque_nombre, galones in combustible_reserva.items():\n",
    "        reporte += f\" tanque {tanque_nombre}  --> {galones} galones restantes \\n\"\n",
    "    return reporte\n",
    "\n",
    "print(informe_cohete(\"Marte\", 35, 25, 82, interno=400000, externo=350000))"
   ]
  }
 ],
 "metadata": {
  "interpreter": {
   "hash": "2a2011e41b4f5042a750f35d844970724774894b513af9ac0a879ce3dbef74ed"
  },
  "kernelspec": {
   "display_name": "Python 3.10.2 64-bit",
   "language": "python",
   "name": "python3"
  },
  "language_info": {
   "codemirror_mode": {
    "name": "ipython",
    "version": 3
   },
   "file_extension": ".py",
   "mimetype": "text/x-python",
   "name": "python",
   "nbconvert_exporter": "python",
   "pygments_lexer": "ipython3",
   "version": "3.10.2"
  },
  "orig_nbformat": 4
 },
 "nbformat": 4,
 "nbformat_minor": 2
}
